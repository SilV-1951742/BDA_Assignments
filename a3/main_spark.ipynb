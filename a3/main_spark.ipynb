{
 "cells": [
  {
   "cell_type": "markdown",
   "id": "cb7b45eb-b95e-4bed-b429-10717c3a0512",
   "metadata": {},
   "source": [
    "# Setup spark"
   ]
  },
  {
   "cell_type": "code",
   "execution_count": 90,
   "id": "7764bccb-ae89-431d-8b0a-44690d69d75a",
   "metadata": {},
   "outputs": [],
   "source": [
    "import os\n",
    "os.environ['PYSPARK_SUBMIT_ARGS'] =\"--conf spark.driver.memory=2g  pyspark-shell\"\n",
    "\n",
    "from pyspark.sql import SparkSession\n",
    "from pyspark.sql.functions import flatten\n",
    "from pyspark.sql.types import (StructType, StructField, StringType, \n",
    "                                FloatType, DateType, IntegerType, ArrayType)\n",
    "spark = SparkSession \\\n",
    "        .builder \\\n",
    "        .master(\"local[*]\") \\\n",
    "        .appName(\"BDA assignment\") \\\n",
    "        .getOrCreate()"
   ]
  },
  {
   "cell_type": "markdown",
   "id": "b534ea9a-b7cf-4971-9330-6cb615863303",
   "metadata": {},
   "source": [
    "# Imports"
   ]
  },
  {
   "cell_type": "code",
   "execution_count": 73,
   "id": "2bbd6460-830a-445d-863b-b87edb4b0a33",
   "metadata": {},
   "outputs": [],
   "source": [
    "from typing import NamedTuple, Final, List\n",
    "#from lxml import etree\n",
    "import xml.etree.ElementTree as ET\n",
    "from itertools import islice, chain, combinations\n",
    "import argparse\n",
    "import traceback\n",
    "import bleach\n",
    "import html\n",
    "from nltk.tokenize import word_tokenize\n",
    "from nltk.corpus import stopwords\n",
    "from nltk.util import pr\n",
    "import string\n",
    "import random\n",
    "import hashlib\n",
    "import pandas as pd\n",
    "import numpy as np\n",
    "import hashlib\n",
    "import json\n",
    "import sys"
   ]
  },
  {
   "cell_type": "markdown",
   "id": "9d6aed4f-9be9-4a14-a996-078adae3e54f",
   "metadata": {},
   "source": [
    "# Constants"
   ]
  },
  {
   "cell_type": "code",
   "execution_count": 3,
   "id": "5d055241-e20d-43b1-8406-d412b5f34cc6",
   "metadata": {},
   "outputs": [],
   "source": [
    "SHINGLE_SIZE: Final = 5\n",
    "SAMPLES: Final = 1000"
   ]
  },
  {
   "cell_type": "code",
   "execution_count": 4,
   "id": "57f90724-7f77-4267-bd27-723fdef44ee5",
   "metadata": {},
   "outputs": [],
   "source": [
    "class comment_tuple(NamedTuple):\n",
    "    id: int\n",
    "    #owner_id: int\n",
    "    post_type: int\n",
    "    score: int\n",
    "    text: str\n",
    "\n",
    "class shingle_set(NamedTuple):\n",
    "    id: int\n",
    "    shingles: frozenset[tuple]\n",
    "\n",
    "class similarity(NamedTuple):\n",
    "    id_set1: int\n",
    "    id_set2: int\n",
    "    similarity: float"
   ]
  },
  {
   "cell_type": "markdown",
   "id": "8ed988ef-bf90-4ec9-a288-c32a0441df13",
   "metadata": {},
   "source": [
    "# Read and clean XML"
   ]
  },
  {
   "cell_type": "code",
   "execution_count": 5,
   "id": "fc472be3-e7df-4983-ad8d-734155857e85",
   "metadata": {},
   "outputs": [],
   "source": [
    "def set_schema():\n",
    "    \"\"\"\n",
    "    Define the schema for the DataFrame\n",
    "    \"\"\"\n",
    "    schema_list = []\n",
    "    schema_list.append(StructField(\"Id\", IntegerType(), True))\n",
    "    #schema_list.append(StructField(\"PostTypeId\", IntegerType(), True))\n",
    "    #schema_list.append(StructField(\"Score\", IntegerType(), True))\n",
    "    schema_list.append(StructField(\"Body\", StringType(), True))\n",
    "    \n",
    "    return StructType(schema_list)\n",
    "\n",
    "def parse_post(rdd):\n",
    "    results = []\n",
    "    root = ET.fromstring(rdd[0])\n",
    "\n",
    "    for elem in root.findall('row'):\n",
    "        rec = []\n",
    "        #print(\"Found row\")\n",
    "        assert elem.text is None, \"The row wasn't empty\"\n",
    "        rec.append(int(elem.attrib[\"Id\"]))\n",
    "        #int(elem.attrib[\"OwnerUserId\"]),\n",
    "        #rec.append(int(elem.attrib[\"PostTypeId\"])),\n",
    "        #rec.append(int(elem.attrib[\"Score\"])),\n",
    "        rec.append(bleach.clean(elem.attrib[\"Body\"], strip=True))\n",
    "        #rec.append(elem.attrib[\"Body\"])\n",
    "\n",
    "        #elem.clear()\n",
    "        #while elem.getprevious() is not None:\n",
    "        #    del elem.getparent()[0]\n",
    "        results.append(rec)\n",
    "\n",
    "    return results"
   ]
  },
  {
   "cell_type": "code",
   "execution_count": 6,
   "id": "de9e592e-7f1e-40a0-8a94-95a8a8018038",
   "metadata": {},
   "outputs": [],
   "source": [
    "filename = \"cstheory_posts.bakxml\"\n",
    "chunksize = 1024\n",
    "\n",
    "file_rdd = spark.read.text(filename, wholetext=True).rdd\n",
    "dataset = file_rdd.flatMap(parse_post)"
   ]
  },
  {
   "cell_type": "code",
   "execution_count": 7,
   "id": "4d1b1d30-61e5-488f-a09e-76acb8969874",
   "metadata": {},
   "outputs": [
    {
     "name": "stdout",
     "output_type": "stream",
     "text": [
      "+---+--------------------+\n",
      "| Id|                Body|\n",
      "+---+--------------------+\n",
      "|  2|I have a dataset ...|\n",
      "|  3|A particular prog...|\n",
      "|  4|What is the follo...|\n",
      "|  5|Can the divide an...|\n",
      "|  6|Is anyone aware o...|\n",
      "|  7|In general, the q...|\n",
      "|  8|If I understand t...|\n",
      "|  9|<a href=\"http://w...|\n",
      "| 10|There was recentl...|\n",
      "| 11|Functional progra...|\n",
      "| 12|I took a class on...|\n",
      "| 13|It's possible tha...|\n",
      "| 14|Other than going ...|\n",
      "| 15|[This question ha...|\n",
      "| 16|See the <a href=\"...|\n",
      "| 17|it is often said ...|\n",
      "| 18|In one word: No.\n",
      "...|\n",
      "| 19|In short, I would...|\n",
      "| 20|It's easy to prov...|\n",
      "| 21|Any &quot;cutting...|\n",
      "+---+--------------------+\n",
      "only showing top 20 rows\n",
      "\n"
     ]
    }
   ],
   "source": [
    "dataset.persist()\n",
    "schema = set_schema()\n",
    "df_ds = dataset.toDF(schema)\n",
    "df_ds.show()\n",
    "\n",
    "#df_posts = records_rdd.toDF(schema)\n",
    "#coll = records_rdd.collect()"
   ]
  },
  {
   "cell_type": "markdown",
   "id": "22ed4fe3-7297-4445-8ce2-32be93b42e1c",
   "metadata": {},
   "source": [
    "# Shingling"
   ]
  },
  {
   "cell_type": "code",
   "execution_count": 11,
   "id": "1e3fecd3-7b72-490d-b4ab-b1c8c4920cb3",
   "metadata": {},
   "outputs": [],
   "source": [
    "class shingler:\n",
    "    \"\"\"\n",
    "    Class that contain a tokenizer and stopwords to make shingling easier.\n",
    "    \"\"\"\n",
    "    def __init__(self):\n",
    "        self.stopwords = set(stopwords.words('english'))\n",
    "\n",
    "    def __enter__(self):\n",
    "        return self\n",
    "\n",
    "    def __exit__(self, exc_type, exc_value, traceback):\n",
    "        return True\n",
    "\n",
    "    def tokenize(self, text: str) -> List[str]:\n",
    "        text = text.translate(str.maketrans('', '', string.punctuation))\n",
    "        # text_nop = text.split()\n",
    "        text_nop = word_tokenize(text)\n",
    "        filtered_words = []\n",
    "\n",
    "        for word in text_nop:\n",
    "            if word not in self.stopwords:\n",
    "                filtered_words.append(word.lower())\n",
    "        \n",
    "        return filtered_words\n",
    "\n",
    "    #def create_shingle(self, input_comment: comment_tuple, shingle_size: int) -> frozenset[tuple]:\n",
    "    #    tokens = self.tokenize(input_comment.text)\n",
    "    #    comment_length = len(tokens)\n",
    "    #    shingles =  frozenset(tuple(tokens[i:(i + shingle_size)]) for i in range(comment_length - shingle_size + 1))\n",
    "    \n",
    "    def create_shingle(self, post: str, shingle_size: int) -> list[list]:\n",
    "        tokens = self.tokenize(post)\n",
    "        comment_length = len(tokens)\n",
    "        shingle_set = frozenset(tuple(tokens[i:(i + shingle_size)]) for i in range(comment_length - shingle_size + 1))\n",
    "        return list(shingle_set)\n",
    "        \n",
    "\n",
    "def shingle_map(row):\n",
    "    ds_shingler = shingler()\n",
    "    return (row[0], ds_shingler.create_shingle(row[1], SHINGLE_SIZE)\n",
    ")\n",
    "\n",
    "def set_shingle_schema():\n",
    "    \"\"\"\n",
    "    Define the schema for the DataFrame\n",
    "    \"\"\"\n",
    "    schema_list = []\n",
    "    schema_list.append(StructField(\"Id\", IntegerType(), True))\n",
    "    #schema_list.append(StructField(\"PostTypeId\", IntegerType(), True))\n",
    "    #schema_list.append(StructField(\"Score\", IntegerType(), True))\n",
    "    schema_list.append(StructField(\"Shingles\", ArrayType(ArrayType(StringType()), True)))\n",
    "    return StructType(schema_list)"
   ]
  },
  {
   "cell_type": "code",
   "execution_count": 109,
   "id": "855eb6f2-07ef-4ef9-b1ba-f8d3d0a9209a",
   "metadata": {},
   "outputs": [],
   "source": [
    "schema = set_shingle_schema()\n",
    "shingle_rdd = dataset.map(shingle_map)\n",
    "df_shingle = shingle_rdd.toDF(schema)\n",
    "#df_shingle.show(truncate=False)"
   ]
  },
  {
   "cell_type": "markdown",
   "id": "b363a0e8-480f-4bc0-9167-1b58be6e6c80",
   "metadata": {},
   "source": [
    "# MinHashing"
   ]
  },
  {
   "cell_type": "code",
   "execution_count": null,
   "id": "89c868f6-3027-49a8-871b-8c96ddb0df01",
   "metadata": {},
   "outputs": [],
   "source": [
    "# Get doc list\n",
    "doc_list = np.array(flatten(df_shingle.select('Shingles').collect()))\n",
    "print(doc_list[:10])"
   ]
  },
  {
   "cell_type": "code",
   "execution_count": 130,
   "id": "f3799fdf-d96c-4f41-87fd-f40c6353a4ef",
   "metadata": {},
   "outputs": [
    {
     "name": "stdout",
     "output_type": "stream",
     "text": [
      "9223372036854775807\n",
      "[2096149490282617182, 2269561747909081125, 607930631362827344, 2092219096079086764, 1809674349804163182, 1338257575307146427, 1928960101259846486, 315389730586719761, 559989775987727879, 1480681506970345963]\n",
      "[2261419810219035797, 2243558520118467258, 1931388090443637456, 2212609764843106243, 350380123870349570, 1304243101527343489, 1592214487878087633, 1277783616767142909, 2280831058830631016, 1360369692187081524]\n"
     ]
    }
   ],
   "source": [
    "# Transform posts to characteristic matrix\n",
    "# Make feature set matrix\n",
    "# Minhash\n",
    "# Make Minhash Matrix\n",
    "# LSH\n",
    "import random\n",
    "SIGNATURE_SIZE: Final = 10\n",
    "HASH_PRIME: Final = (1 << 61) - 1\n",
    "MAX_HASH: Final = sys.maxsize\n",
    "HASH_RANGE: Final = sys.maxsize\n",
    "SEED: Final = 193120\n",
    "\n",
    "\n",
    "\n",
    "generator = np.random.RandomState(SEED)\n",
    "salts = [generator.randint(1, HASH_PRIME) for _ in range(SIGNATURE_SIZE)]\n",
    "permutations = [generator.randint(1, HASH_PRIME) for _ in range(SIGNATURE_SIZE)]\n",
    "\n",
    "#permutations = [[generator.randint(1, HASH_PRIME) for _ in range(SIGNATURE_SIZE)],\n",
    "#                [generator.randint(0, HASH_PRIME) for _ in range(SIGNATURE_SIZE)]]\n",
    "\n",
    "print(MAX_HASH)\n",
    "print(salts)\n",
    "print(permutations)\n",
    "\n",
    "def hash_func(data, salt):\n",
    "    return int.from_bytes(hashlib.md5(int.to_bytes(salt, 8, byteorder=\"big\")  + json.dumps(data).encode()).digest()[:8], byteorder=\"big\")\n",
    "    \n",
    "def min_hasher(row):\n",
    "    sig = np.full((SIGNATURE_SIZE), MAX_HASH)\n",
    "    for shingle in row[1]:\n",
    "        for i in range(SIGNATURE_SIZE):\n",
    "            hash_val = hash_func(tuple(shingle), salts[i])\n",
    "            sig[i] = min(hash_val, sig[i])\n",
    "    return (row[0], sig)"
   ]
  },
  {
   "cell_type": "code",
   "execution_count": 131,
   "id": "863a39cf-392b-4310-9950-92bb58df1890",
   "metadata": {},
   "outputs": [
    {
     "name": "stdout",
     "output_type": "stream",
     "text": [
      "(2, [('dataset', 'linearly', 'measured', 'comparisons', 'what'), ('i', 'dataset', 'number', 'objects', 'arranged'), ('i', 'improve', 'naive', 'sorting', 'sort'), ('2d', 'grid', 'i', 'know', 'i'), ('comparisons', 'what', 'nd', 'datasets', 'arbitrary'), ('i', 'strict', 'ordering', 'increasing', 'go'), ('within', 'column', 'for', 'example', 'ul'), ('sorting', 'sort', 'entire', 'dataset', 'linearly'), ('2', '3li', 'li4', '6', '7li'), ('entire', 'dataset', 'linearly', 'measured', 'comparisons'), ('go', 'lefttoright', 'within', 'row', 'increasing'), ('dataset', 'number', 'objects', 'arranged', '2d'), ('sort', 'entire', 'dataset', 'linearly', 'measured'), ('ul', 'can', 'i', 'improve', 'naive'), ('datasets', 'arbitrary', 'finite', 'datasets', 'subset'), ('li5', '8', '9li', 'ul', 'can'), ('arranged', '2d', 'grid', 'i', 'know'), ('nd', 'datasets', 'arbitrary', 'finite', 'datasets'), ('improve', 'naive', 'sorting', 'sort', 'entire'), ('naive', 'sorting', 'sort', 'entire', 'dataset'), ('grid', 'i', 'know', 'i', 'strict'), ('increasing', 'toptobottom', 'within', 'column', 'for'), ('strict', 'ordering', 'increasing', 'go', 'lefttoright'), ('know', 'i', 'strict', 'ordering', 'increasing'), ('for', 'example', 'ul', 'li1', '2'), ('i', 'know', 'i', 'strict', 'ordering'), ('li1', '2', '3li', 'li4', '6'), ('3li', 'li4', '6', '7li', 'li5'), ('number', 'objects', 'arranged', '2d', 'grid'), ('6', '7li', 'li5', '8', '9li'), ('objects', 'arranged', '2d', 'grid', 'i'), ('column', 'for', 'example', 'ul', 'li1'), ('example', 'ul', 'li1', '2', '3li'), ('9li', 'ul', 'can', 'i', 'improve'), ('7li', 'li5', '8', '9li', 'ul'), ('lefttoright', 'within', 'row', 'increasing', 'toptobottom'), ('ul', 'li1', '2', '3li', 'li4'), ('can', 'i', 'improve', 'naive', 'sorting'), ('finite', 'datasets', 'subset', 'comparisons', 'known'), ('what', 'nd', 'datasets', 'arbitrary', 'finite'), ('8', '9li', 'ul', 'can', 'i'), ('within', 'row', 'increasing', 'toptobottom', 'within'), ('arbitrary', 'finite', 'datasets', 'subset', 'comparisons'), ('ordering', 'increasing', 'go', 'lefttoright', 'within'), ('linearly', 'measured', 'comparisons', 'what', 'nd'), ('measured', 'comparisons', 'what', 'nd', 'datasets'), ('increasing', 'go', 'lefttoright', 'within', 'row'), ('li4', '6', '7li', 'li5', '8'), ('toptobottom', 'within', 'column', 'for', 'example'), ('row', 'increasing', 'toptobottom', 'within', 'column')])\n",
      "(3, [('horizontally', 'vertically', 'diagonally', 'the', 'problem'), ('formed', 'elements', 'connected', 'horizontally', 'vertically'), ('something', 'like', 'codea', '0', '0'), ('0', '0', '0', '0', '0'), ('find', 'particularly', 'techniques', 'trimdiscard', 'paths'), ('look', 'something', 'like', 'codea', '0'), ('rectangular', 'grid', 'would', 'look', 'something'), ('00', '00', 'c', 'd', 'code'), ('finding', 'hamiltonian', 'paths', 'rectangular', 'grid'), ('code', 'what', 'effective', 'heuristics', 'could'), ('0', '0', '00', '00', 'c'), ('grid', 'would', 'look', 'something', 'like'), ('d', 'code', 'could', 'one', 'path'), ('0', 'used', 'form', 'path', 'non'), ('000', '0', '0', '00', '00'), ('particular', 'programming', 'problem', 'i', 'came'), ('another', 'may', 'codea', '000', '0'), ('connected', 'horizontally', 'vertically', 'diagonally', 'the'), ('i', 'came', 'across', 'recently', 'reduces'), ('the', 'problem', 'also', 'states', 'element'), ('c', 'd', 'code', 'what', 'effective'), ('non', '0', 'elements', 'obstacles', 'need'), ('recently', 'reduces', 'finding', 'hamiltonian', 'paths'), ('elements', 'obstacles', 'need', 'avoided', 'codea000'), ('codea000', '0000', '00c', 'd', 'code'), ('one', 'path', 'instance', 'another', 'may'), ('came', 'across', 'recently', 'reduces', 'finding'), ('problem', 'i', 'came', 'across', 'recently'), ('0', 'elements', 'obstacles', 'need', 'avoided'), ('paths', 'along', 'way', 'edit', 'just'), ('may', 'codea', '000', '0', '0'), ('effective', 'heuristics', 'could', 'applied', 'find'), ('0', 'c', 'd', 'code', 'what'), ('edges', 'formed', 'elements', 'connected', 'horizontally'), ('path', 'non', '0', 'elements', 'obstacles'), ('elements', 'connected', 'horizontally', 'vertically', 'diagonally'), ('0', '0', '0', '0', 'c'), ('also', 'states', 'element', 'marked', '0'), ('avoided', 'codea000', '0000', '00c', 'd'), ('0', '0', '0', 'c', 'd'), ('edit', 'just', 'clarify', 'edges', 'formed'), ('element', 'marked', '0', 'used', 'form'), ('path', 'instance', 'another', 'may', 'codea'), ('applied', 'find', 'particularly', 'techniques', 'trimdiscard'), ('codea', '000', '0', '0', '00'), ('used', 'form', 'path', 'non', '0'), ('could', 'one', 'path', 'instance', 'another'), ('0', '00', '00', 'c', 'd'), ('diagonally', 'the', 'problem', 'also', 'states'), ('code', 'could', 'one', 'path', 'instance'), ('way', 'edit', 'just', 'clarify', 'edges'), ('need', 'avoided', 'codea000', '0000', '00c'), ('states', 'element', 'marked', '0', 'used'), ('obstacles', 'need', 'avoided', 'codea000', '0000'), ('what', 'effective', 'heuristics', 'could', 'applied'), ('particularly', 'techniques', 'trimdiscard', 'paths', 'along'), ('a', 'particular', 'programming', 'problem', 'i'), ('form', 'path', 'non', '0', 'elements'), ('reduces', 'finding', 'hamiltonian', 'paths', 'rectangular'), ('paths', 'rectangular', 'grid', 'would', 'look'), ('across', 'recently', 'reduces', 'finding', 'hamiltonian'), ('vertically', 'diagonally', 'the', 'problem', 'also'), ('00c', 'd', 'code', 'could', 'one'), ('0', '0', 'c', 'd', 'code'), ('marked', '0', 'used', 'form', 'path'), ('d', 'code', 'what', 'effective', 'heuristics'), ('clarify', 'edges', 'formed', 'elements', 'connected'), ('codea', '0', '0', '0', '0'), ('heuristics', 'could', 'applied', 'find', 'particularly'), ('like', 'codea', '0', '0', '0'), ('along', 'way', 'edit', 'just', 'clarify'), ('0000', '00c', 'd', 'code', 'could'), ('instance', 'another', 'may', 'codea', '000'), ('techniques', 'trimdiscard', 'paths', 'along', 'way'), ('trimdiscard', 'paths', 'along', 'way', 'edit'), ('problem', 'also', 'states', 'element', 'marked'), ('hamiltonian', 'paths', 'rectangular', 'grid', 'would'), ('could', 'applied', 'find', 'particularly', 'techniques'), ('just', 'clarify', 'edges', 'formed', 'elements'), ('would', 'look', 'something', 'like', 'codea'), ('programming', 'problem', 'i', 'came', 'across')])\n",
      "(4, [('problem', 'k', 'subsets', 'iff', 'solve'), ('trivial', 'it', 'certainly', 'sufficiently', 'useful'), ('s', 's', 'create', 'subsets', 's'), ('u', 'x', 's', 'x', 'u'), ('exist', 'k', 'sets', 'c', 'every'), ('npcomplete', 'given', 'normal', 'set', 'cover'), ('variation', 'set', 'cover', 'known', 'given'), ('problem', 's', 'c', 'k', 'make'), ('subsets', 's', 'positive', 'integer', 'k'), ('integer', 'k', 'exist', 'k', 'sets'), ('proved', 'i', 'idea', 'also', 'good'), ('k', 'sets', 'c', 'every', 'pair'), ('solve', 'set', 'cover', 'problem', 'k'), ('useful', 'someone', 'proved', 'i', 'idea'), ('create', 'subsets', 's', 's', 'subsets'), ('place', 'look', 'npcompleteness', 'results', 'garey'), ('subsets', 's', 's', 'subsets', 'form'), ('etc', 'i', 'would', 'like', 'able'), ('s', 's', 'subsets', 'form', 'u'), ('half', 'page', 'proving', 'probably', 'obvious'), ('s', 'x', 'u', 's', 'subsets'), ('dismiss', 'trivial', 'it', 'certainly', 'sufficiently'), ('x', 's', 'x', 'u', 'ci'), ('cover', 'known', 'given', 'set', 's'), ('proving', 'probably', 'obvious', 'enough', 'dismiss'), ('note', 'it', 'hard', 'see', 'problem'), ('three', 'copies', 's', 'say', 's'), ('s', 's', 's', 'create', 'subsets'), ('k', 'exist', 'k', 'sets', 'c'), ('u', 's', 'subsets', 'form', 'u'), ('set', 'cover', 'problem', 'k', 'subsets'), ('form', 'u', 'x', 's', 'x'), ('it', 'certainly', 'sufficiently', 'useful', 'someone'), ('would', 'like', 'able', 'waste', 'half'), ('also', 'good', 'place', 'look', 'npcompleteness'), ('idea', 'also', 'good', 'place', 'look'), ('set', 's', 'collection', 'c', 'subsets'), ('problem', 'k', '1', '2', 's'), ('able', 'waste', 'half', 'page', 'proving'), ('set', 'cover', 'known', 'given', 'set'), ('cover', 'problem', 'k', '1', '2'), ('subsets', 'iff', 'solve', 'pair', 'cover'), ('subsets', 'form', 'u', 'x', 's'), ('every', 'pair', 'elements', 's', 'lies'), ('positive', 'integer', 'k', 'exist', 'k'), ('x', 'u', 'ci', 'then', 'solve'), ('s', 'c', 'k', 'make', 'three'), ('cover', 'problem', 's', 'c', 'k'), ('s', 'subsets', 'this', 'generalizes', 'triples'), ('make', 'three', 'copies', 's', 'say'), ('pair', 'cover', 'problem', 'k', '1'), ('say', 's', 's', 's', 'create'), ('see', 'problem', 'npcomplete', 'given', 'normal'), ('someone', 'proved', 'i', 'idea', 'also'), ('i', 'would', 'like', 'able', 'waste'), ('given', 'set', 's', 'collection', 'c'), ('lies', 'one', 'selected', 'subsets', 'note'), ('selected', 'subsets', 'note', 'it', 'hard'), ('s', 'create', 'subsets', 's', 's'), ('enough', 'dismiss', 'trivial', 'it', 'certainly'), ('ci', 'then', 'solve', 'set', 'cover'), ('following', 'variation', 'set', 'cover', 'known'), ('s', 'collection', 'c', 'subsets', 's'), ('sets', 'c', 'every', 'pair', 'elements'), ('s', 'lies', 'one', 'selected', 'subsets'), ('k', 'make', 'three', 'copies', 's'), ('s', 'subsets', 'form', 'u', 'x'), ('subsets', 'this', 'generalizes', 'triples', 'etc'), ('1', '2', 's', 'subsets', 'this'), ('u', 'ci', 'then', 'solve', 'set'), ('sufficiently', 'useful', 'someone', 'proved', 'i'), ('then', 'solve', 'set', 'cover', 'problem'), ('triples', 'etc', 'i', 'would', 'like'), ('copies', 's', 'say', 's', 's'), ('good', 'place', 'look', 'npcompleteness', 'results'), ('probably', 'obvious', 'enough', 'dismiss', 'trivial'), ('solve', 'pair', 'cover', 'problem', 'k'), ('subsets', 'note', 'it', 'hard', 'see'), ('normal', 'set', 'cover', 'problem', 's'), ('obvious', 'enough', 'dismiss', 'trivial', 'it'), ('i', 'idea', 'also', 'good', 'place'), ('iff', 'solve', 'pair', 'cover', 'problem'), ('c', 'k', 'make', 'three', 'copies'), ('known', 'given', 'set', 's', 'collection'), ('k', 'subsets', 'iff', 'solve', 'pair'), ('c', 'subsets', 's', 'positive', 'integer'), ('this', 'generalizes', 'triples', 'etc', 'i'), ('x', 'u', 's', 'subsets', 'form'), ('2', 's', 'subsets', 'this', 'generalizes'), ('elements', 's', 'lies', 'one', 'selected'), ('s', 'positive', 'integer', 'k', 'exist'), ('look', 'npcompleteness', 'results', 'garey', 'johnson'), ('x', 's', 'x', 'u', 's'), ('c', 'every', 'pair', 'elements', 's'), ('one', 'selected', 'subsets', 'note', 'it'), ('collection', 'c', 'subsets', 's', 'positive'), ('page', 'proving', 'probably', 'obvious', 'enough'), ('k', '1', '2', 's', 'subsets'), ('set', 'cover', 'problem', 's', 'c'), ('generalizes', 'triples', 'etc', 'i', 'would'), ('waste', 'half', 'page', 'proving', 'probably'), ('s', 'say', 's', 's', 's'), ('cover', 'problem', 'k', 'subsets', 'iff'), ('hard', 'see', 'problem', 'npcomplete', 'given'), ('what', 'following', 'variation', 'set', 'cover'), ('pair', 'elements', 's', 'lies', 'one'), ('problem', 'npcomplete', 'given', 'normal', 'set'), ('s', 'x', 'u', 'ci', 'then'), ('like', 'able', 'waste', 'half', 'page'), ('certainly', 'sufficiently', 'useful', 'someone', 'proved'), ('given', 'normal', 'set', 'cover', 'problem'), ('it', 'hard', 'see', 'problem', 'npcomplete')])\n",
      "(2, array([ 189702638683285394,  143889349851350696,  299970645845496758,\n",
      "       1012789781694830188,  139233372471519040,  128758974008313556,\n",
      "        155065139646647311,   50898033533516211,  108221274923554810,\n",
      "        268327233853184876]))\n",
      "(3, array([302556230877135915,  43058842164462395, 161349618670572441,\n",
      "       970595629309073062, 189442820144363646,  48510592420371548,\n",
      "       314193264674415700,  46381955335617673, 289133234258285671,\n",
      "       213238612537432734]))\n",
      "(4, array([ 51914031919476071,  62735978765651848,  23977440715220750,\n",
      "       321532201791277812, 249650414715072735,  57711073538729465,\n",
      "       166403400890804724, 179414079436469642,  89839061935004343,\n",
      "       199945394520551881]))\n"
     ]
    }
   ],
   "source": [
    "hash_rdd = shingle_rdd.map(min_hasher)\n",
    "\n",
    "for elem in hash_rdd.take(3):\n",
    "    print(elem)"
   ]
  },
  {
   "cell_type": "code",
   "execution_count": null,
   "id": "a5e9d40f-72ba-4f27-bb00-c602ae796035",
   "metadata": {},
   "outputs": [],
   "source": []
  },
  {
   "cell_type": "markdown",
   "id": "958d9c18-eebb-4579-a6d2-987a3d16fce6",
   "metadata": {},
   "source": [
    "# Exit Spark"
   ]
  },
  {
   "cell_type": "code",
   "execution_count": null,
   "id": "5903af5b-7751-4eef-a000-1286bdb1eeb9",
   "metadata": {},
   "outputs": [],
   "source": [
    "#spark.stop()"
   ]
  },
  {
   "cell_type": "code",
   "execution_count": null,
   "id": "fe907960-4bf9-49a6-b964-910097827ce9",
   "metadata": {},
   "outputs": [],
   "source": []
  }
 ],
 "metadata": {
  "interpreter": {
   "hash": "31f2aee4e71d21fbe5cf8b01ff0e069b9275f58929596ceb00d14d90e3e16cd6"
  },
  "kernelspec": {
   "display_name": "Python 3",
   "language": "python",
   "name": "python3"
  },
  "language_info": {
   "codemirror_mode": {
    "name": "ipython",
    "version": 3
   },
   "file_extension": ".py",
   "mimetype": "text/x-python",
   "name": "python",
   "nbconvert_exporter": "python",
   "pygments_lexer": "ipython3",
   "version": "3.9.4"
  }
 },
 "nbformat": 4,
 "nbformat_minor": 5
}
