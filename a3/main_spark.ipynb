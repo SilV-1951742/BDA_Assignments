{
 "cells": [
  {
   "cell_type": "markdown",
   "id": "cb7b45eb-b95e-4bed-b429-10717c3a0512",
   "metadata": {},
   "source": [
    "# Setup spark"
   ]
  },
  {
   "cell_type": "code",
   "execution_count": 1,
   "id": "7764bccb-ae89-431d-8b0a-44690d69d75a",
   "metadata": {},
   "outputs": [
    {
     "name": "stderr",
     "output_type": "stream",
     "text": [
      "21/11/28 16:28:48 WARN Utils: Your hostname, maarten-laptop resolves to a loopback address: 127.0.1.1; using 192.168.0.222 instead (on interface wlp2s0)\n",
      "21/11/28 16:28:48 WARN Utils: Set SPARK_LOCAL_IP if you need to bind to another address\n",
      "WARNING: An illegal reflective access operation has occurred\n",
      "WARNING: Illegal reflective access by org.apache.spark.unsafe.Platform (file:/opt/spark/jars/spark-unsafe_2.12-3.1.1.jar) to constructor java.nio.DirectByteBuffer(long,int)\n",
      "WARNING: Please consider reporting this to the maintainers of org.apache.spark.unsafe.Platform\n",
      "WARNING: Use --illegal-access=warn to enable warnings of further illegal reflective access operations\n",
      "WARNING: All illegal access operations will be denied in a future release\n",
      "21/11/28 16:28:49 WARN NativeCodeLoader: Unable to load native-hadoop library for your platform... using builtin-java classes where applicable\n",
      "Using Spark's default log4j profile: org/apache/spark/log4j-defaults.properties\n",
      "Setting default log level to \"WARN\".\n",
      "To adjust logging level use sc.setLogLevel(newLevel). For SparkR, use setLogLevel(newLevel).\n"
     ]
    }
   ],
   "source": [
    "import os\n",
    "os.environ['PYSPARK_SUBMIT_ARGS'] =\"--conf spark.driver.memory=2g  pyspark-shell\"\n",
    "\n",
    "from pyspark.sql import SparkSession\n",
    "from pyspark.sql.types import (StructType, StructField, StringType, \n",
    "                                FloatType, DateType, IntegerType)\n",
    "spark = SparkSession \\\n",
    "        .builder \\\n",
    "        .master(\"local[*]\") \\\n",
    "        .appName(\"BDA assignment\") \\\n",
    "        .getOrCreate()"
   ]
  },
  {
   "cell_type": "markdown",
   "id": "b534ea9a-b7cf-4971-9330-6cb615863303",
   "metadata": {},
   "source": [
    "# Imports"
   ]
  },
  {
   "cell_type": "code",
   "execution_count": 2,
   "id": "2bbd6460-830a-445d-863b-b87edb4b0a33",
   "metadata": {},
   "outputs": [],
   "source": [
    "from typing import NamedTuple, Final, List\n",
    "#from lxml import etree\n",
    "import xml.etree.ElementTree as ET\n",
    "from itertools import islice, chain, combinations\n",
    "import argparse\n",
    "import traceback\n",
    "import bleach\n",
    "import html\n",
    "from nltk.tokenize import word_tokenize\n",
    "from nltk.corpus import stopwords\n",
    "from nltk.util import pr\n",
    "import string\n",
    "import random\n",
    "import hashlib\n",
    "import pandas as pd"
   ]
  },
  {
   "cell_type": "markdown",
   "id": "9d6aed4f-9be9-4a14-a996-078adae3e54f",
   "metadata": {},
   "source": [
    "# Constants"
   ]
  },
  {
   "cell_type": "code",
   "execution_count": 3,
   "id": "5d055241-e20d-43b1-8406-d412b5f34cc6",
   "metadata": {},
   "outputs": [],
   "source": [
    "SHINGLE_SIZE: Final = 5\n",
    "SAMPLES: Final = 1000"
   ]
  },
  {
   "cell_type": "code",
   "execution_count": 4,
   "id": "57f90724-7f77-4267-bd27-723fdef44ee5",
   "metadata": {},
   "outputs": [],
   "source": [
    "class comment_tuple(NamedTuple):\n",
    "    id: int\n",
    "    #owner_id: int\n",
    "    post_type: int\n",
    "    score: int\n",
    "    text: str\n",
    "\n",
    "class shingle_set(NamedTuple):\n",
    "    id: int\n",
    "    shingles: frozenset[tuple]\n",
    "\n",
    "class similarity(NamedTuple):\n",
    "    id_set1: int\n",
    "    id_set2: int\n",
    "    similarity: float"
   ]
  },
  {
   "cell_type": "markdown",
   "id": "8ed988ef-bf90-4ec9-a288-c32a0441df13",
   "metadata": {},
   "source": [
    "# Read and clean XML"
   ]
  },
  {
   "cell_type": "code",
   "execution_count": 5,
   "id": "fc472be3-e7df-4983-ad8d-734155857e85",
   "metadata": {},
   "outputs": [],
   "source": [
    "def set_schema():\n",
    "    \"\"\"\n",
    "    Define the schema for the DataFrame\n",
    "    \"\"\"\n",
    "    schema_list = []\n",
    "    schema_list.append(StructField(\"Id\", IntegerType(), True))\n",
    "    schema_list.append(StructField(\"PostTypeId\", IntegerType(), True))\n",
    "    schema_list.append(StructField(\"Score\", IntegerType(), True))\n",
    "    schema_list.append(StructField(\"Body\", StringType(), True))\n",
    "    \n",
    "    return StructType(schema_list)\n",
    "\n",
    "def parse_post(rdd):\n",
    "    results = []\n",
    "    root = ET.fromstring(rdd[0])\n",
    "\n",
    "    for elem in root.findall('row'):\n",
    "        rec = []\n",
    "        #print(\"Found row\")\n",
    "        assert elem.text is None, \"The row wasn't empty\"\n",
    "        rec.append(int(elem.attrib[\"Id\"]))\n",
    "        #int(elem.attrib[\"OwnerUserId\"]),\n",
    "        rec.append(int(elem.attrib[\"PostTypeId\"])),\n",
    "        rec.append(int(elem.attrib[\"Score\"])),\n",
    "        rec.append(bleach.clean(elem.attrib[\"Body\"], strip=True))\n",
    "        #rec.append(elem.attrib[\"Body\"])\n",
    "\n",
    "        #elem.clear()\n",
    "        #while elem.getprevious() is not None:\n",
    "        #    del elem.getparent()[0]\n",
    "        results.append(rec)\n",
    "\n",
    "    return results"
   ]
  },
  {
   "cell_type": "code",
   "execution_count": 8,
   "id": "de9e592e-7f1e-40a0-8a94-95a8a8018038",
   "metadata": {},
   "outputs": [],
   "source": [
    "filename = \"cstheory_posts.bakxml\"\n",
    "chunksize = 1024\n",
    "\n",
    "file_rdd = spark.read.text(filename, wholetext=True).rdd\n",
    "dataset = file_rdd.flatMap(parse_post)"
   ]
  },
  {
   "cell_type": "code",
   "execution_count": 9,
   "id": "4d1b1d30-61e5-488f-a09e-76acb8969874",
   "metadata": {},
   "outputs": [
    {
     "name": "stderr",
     "output_type": "stream",
     "text": []
    },
    {
     "name": "stdout",
     "output_type": "stream",
     "text": [
      "+---+----------+-----+--------------------+\n",
      "| Id|PostTypeId|Score|                Body|\n",
      "+---+----------+-----+--------------------+\n",
      "|  2|         1|   13|I have a dataset ...|\n",
      "|  3|         1|    8|A particular prog...|\n",
      "|  4|         1|   15|What is the follo...|\n",
      "|  5|         1|   10|Can the divide an...|\n",
      "|  6|         1|    8|Is anyone aware o...|\n",
      "|  7|         1|   21|In general, the q...|\n",
      "|  8|         2|    4|If I understand t...|\n",
      "|  9|         2|    7|<a href=\"http://w...|\n",
      "| 10|         1|    8|There was recentl...|\n",
      "| 11|         1|   50|Functional progra...|\n",
      "| 12|         1|   35|I took a class on...|\n",
      "| 13|         2|   23|It's possible tha...|\n",
      "| 14|         1|   24|Other than going ...|\n",
      "| 15|         1|   19|[This question ha...|\n",
      "| 16|         2|   21|See the <a href=\"...|\n",
      "| 17|         1|   16|it is often said ...|\n",
      "| 18|         2|   20|In one word: No.\n",
      "...|\n",
      "| 19|         2|   20|In short, I would...|\n",
      "| 20|         2|   19|It's easy to prov...|\n",
      "| 21|         2|    4|Any &quot;cutting...|\n",
      "+---+----------+-----+--------------------+\n",
      "only showing top 20 rows\n",
      "\n"
     ]
    },
    {
     "name": "stderr",
     "output_type": "stream",
     "text": []
    }
   ],
   "source": [
    "dataset.persist()\n",
    "schema = set_schema()\n",
    "df_ds = dataset.toDF(schema)\n",
    "df_ds.show()\n",
    "\n",
    "#df_posts = records_rdd.toDF(schema)\n",
    "#coll = records_rdd.collect()"
   ]
  },
  {
   "cell_type": "markdown",
   "id": "22ed4fe3-7297-4445-8ce2-32be93b42e1c",
   "metadata": {},
   "source": [
    "# Shingling"
   ]
  },
  {
   "cell_type": "code",
<<<<<<< HEAD
   "execution_count": 10,
=======
   "execution_count": 8,
>>>>>>> 1992c93454a47c76e8c3f536b0030d17445a2658
   "id": "1e3fecd3-7b72-490d-b4ab-b1c8c4920cb3",
   "metadata": {},
   "outputs": [],
   "source": [
    "class shingler:\n",
    "    \"\"\"\n",
    "    Class that contain a tokenizer and stopwords to make shingling easier.\n",
    "    \"\"\"\n",
    "    def __init__(self):\n",
    "        self.stopwords = set(stopwords.words('english'))\n",
    "\n",
    "    def __enter__(self):\n",
    "        return self\n",
    "\n",
    "    def __exit__(self, exc_type, exc_value, traceback):\n",
    "        return True\n",
    "\n",
    "    def tokenize(self, text: str) -> List[str]:\n",
    "        text = text.translate(str.maketrans('', '', string.punctuation))\n",
    "        # text_nop = text.split()\n",
    "        text_nop = word_tokenize(text)\n",
    "        filtered_words = []\n",
    "\n",
    "        for word in text_nop:\n",
    "            if word not in self.stopwords:\n",
    "                filtered_words.append(word.lower())\n",
    "        \n",
    "        return filtered_words\n",
    "\n",
    "    #def create_shingle(self, input_comment: comment_tuple, shingle_size: int) -> frozenset[tuple]:\n",
    "    #    tokens = self.tokenize(input_comment.text)\n",
    "    #    comment_length = len(tokens)\n",
    "    #    shingles =  frozenset(tuple(tokens[i:(i + shingle_size)]) for i in range(comment_length - shingle_size + 1))\n",
    "    \n",
    "    def create_shingle(self, post: str, shingle_size: int) -> frozenset[tuple]:\n",
    "        tokens = self.tokenize(post)\n",
    "        comment_length = len(tokens)\n",
    "        return frozenset(tuple(tokens[i:(i + shingle_size)]) for i in range(comment_length - shingle_size + 1))\n",
    "        \n",
    "\n",
    "def shingle_map(row):\n",
    "    ds_shingler = shingler()\n",
    "    return (row[0], ds_shingler.create_shingle(row[3], SHINGLE_SIZE)\n",
    ")"
   ]
  },
  {
   "cell_type": "code",
<<<<<<< HEAD
   "execution_count": 17,
   "id": "855eb6f2-07ef-4ef9-b1ba-f8d3d0a9209a",
   "metadata": {},
   "outputs": [
    {
     "name": "stdout",
     "output_type": "stream",
     "text": [
      "27555\n",
      "(2, frozenset({('dataset', 'linearly', 'measured', 'comparisons', 'what'), ('i', 'dataset', 'number', 'objects', 'arranged'), ('i', 'improve', 'naive', 'sorting', 'sort'), ('2d', 'grid', 'i', 'know', 'i'), ('toptobottom', 'within', 'column', 'for', 'example'), ('comparisons', 'what', 'nd', 'datasets', 'arbitrary'), ('within', 'column', 'for', 'example', 'ul'), ('sorting', 'sort', 'entire', 'dataset', 'linearly'), ('2', '3li', 'li4', '6', '7li'), ('entire', 'dataset', 'linearly', 'measured', 'comparisons'), ('go', 'lefttoright', 'within', 'row', 'increasing'), ('dataset', 'number', 'objects', 'arranged', '2d'), ('sort', 'entire', 'dataset', 'linearly', 'measured'), ('row', 'increasing', 'toptobottom', 'within', 'column'), ('ul', 'can', 'i', 'improve', 'naive'), ('datasets', 'arbitrary', 'finite', 'datasets', 'subset'), ('li5', '8', '9li', 'ul', 'can'), ('arranged', '2d', 'grid', 'i', 'know'), ('nd', 'datasets', 'arbitrary', 'finite', 'datasets'), ('improve', 'naive', 'sorting', 'sort', 'entire'), ('naive', 'sorting', 'sort', 'entire', 'dataset'), ('grid', 'i', 'know', 'i', 'strict'), ('increasing', 'toptobottom', 'within', 'column', 'for'), ('strict', 'ordering', 'increasing', 'go', 'lefttoright'), ('know', 'i', 'strict', 'ordering', 'increasing'), ('li1', '2', '3li', 'li4', '6'), ('i', 'know', 'i', 'strict', 'ordering'), ('3li', 'li4', '6', '7li', 'li5'), ('number', 'objects', 'arranged', '2d', 'grid'), ('6', '7li', 'li5', '8', '9li'), ('objects', 'arranged', '2d', 'grid', 'i'), ('column', 'for', 'example', 'ul', 'li1'), ('example', 'ul', 'li1', '2', '3li'), ('9li', 'ul', 'can', 'i', 'improve'), ('7li', 'li5', '8', '9li', 'ul'), ('lefttoright', 'within', 'row', 'increasing', 'toptobottom'), ('ul', 'li1', '2', '3li', 'li4'), ('can', 'i', 'improve', 'naive', 'sorting'), ('finite', 'datasets', 'subset', 'comparisons', 'known'), ('what', 'nd', 'datasets', 'arbitrary', 'finite'), ('8', '9li', 'ul', 'can', 'i'), ('within', 'row', 'increasing', 'toptobottom', 'within'), ('arbitrary', 'finite', 'datasets', 'subset', 'comparisons'), ('ordering', 'increasing', 'go', 'lefttoright', 'within'), ('linearly', 'measured', 'comparisons', 'what', 'nd'), ('measured', 'comparisons', 'what', 'nd', 'datasets'), ('increasing', 'go', 'lefttoright', 'within', 'row'), ('li4', '6', '7li', 'li5', '8'), ('for', 'example', 'ul', 'li1', '2'), ('i', 'strict', 'ordering', 'increasing', 'go')}))\n",
      "(3, frozenset({('horizontally', 'vertically', 'diagonally', 'the', 'problem'), ('formed', 'elements', 'connected', 'horizontally', 'vertically'), ('something', 'like', 'codea', '0', '0'), ('0', '0', '0', '0', '0'), ('find', 'particularly', 'techniques', 'trimdiscard', 'paths'), ('look', 'something', 'like', 'codea', '0'), ('rectangular', 'grid', 'would', 'look', 'something'), ('00', '00', 'c', 'd', 'code'), ('finding', 'hamiltonian', 'paths', 'rectangular', 'grid'), ('code', 'what', 'effective', 'heuristics', 'could'), ('0', '0', '00', '00', 'c'), ('grid', 'would', 'look', 'something', 'like'), ('d', 'code', 'could', 'one', 'path'), ('0', 'used', 'form', 'path', 'non'), ('000', '0', '0', '00', '00'), ('particular', 'programming', 'problem', 'i', 'came'), ('another', 'may', 'codea', '000', '0'), ('connected', 'horizontally', 'vertically', 'diagonally', 'the'), ('i', 'came', 'across', 'recently', 'reduces'), ('the', 'problem', 'also', 'states', 'element'), ('c', 'd', 'code', 'what', 'effective'), ('non', '0', 'elements', 'obstacles', 'need'), ('recently', 'reduces', 'finding', 'hamiltonian', 'paths'), ('elements', 'obstacles', 'need', 'avoided', 'codea000'), ('codea000', '0000', '00c', 'd', 'code'), ('one', 'path', 'instance', 'another', 'may'), ('came', 'across', 'recently', 'reduces', 'finding'), ('problem', 'i', 'came', 'across', 'recently'), ('0', 'elements', 'obstacles', 'need', 'avoided'), ('paths', 'along', 'way', 'edit', 'just'), ('may', 'codea', '000', '0', '0'), ('effective', 'heuristics', 'could', 'applied', 'find'), ('0', 'c', 'd', 'code', 'what'), ('edges', 'formed', 'elements', 'connected', 'horizontally'), ('path', 'non', '0', 'elements', 'obstacles'), ('elements', 'connected', 'horizontally', 'vertically', 'diagonally'), ('0', '0', '0', '0', 'c'), ('also', 'states', 'element', 'marked', '0'), ('avoided', 'codea000', '0000', '00c', 'd'), ('0', '0', '0', 'c', 'd'), ('edit', 'just', 'clarify', 'edges', 'formed'), ('element', 'marked', '0', 'used', 'form'), ('path', 'instance', 'another', 'may', 'codea'), ('applied', 'find', 'particularly', 'techniques', 'trimdiscard'), ('codea', '000', '0', '0', '00'), ('used', 'form', 'path', 'non', '0'), ('could', 'one', 'path', 'instance', 'another'), ('0', '00', '00', 'c', 'd'), ('diagonally', 'the', 'problem', 'also', 'states'), ('code', 'could', 'one', 'path', 'instance'), ('way', 'edit', 'just', 'clarify', 'edges'), ('need', 'avoided', 'codea000', '0000', '00c'), ('states', 'element', 'marked', '0', 'used'), ('obstacles', 'need', 'avoided', 'codea000', '0000'), ('what', 'effective', 'heuristics', 'could', 'applied'), ('particularly', 'techniques', 'trimdiscard', 'paths', 'along'), ('a', 'particular', 'programming', 'problem', 'i'), ('form', 'path', 'non', '0', 'elements'), ('reduces', 'finding', 'hamiltonian', 'paths', 'rectangular'), ('paths', 'rectangular', 'grid', 'would', 'look'), ('across', 'recently', 'reduces', 'finding', 'hamiltonian'), ('vertically', 'diagonally', 'the', 'problem', 'also'), ('00c', 'd', 'code', 'could', 'one'), ('0', '0', 'c', 'd', 'code'), ('marked', '0', 'used', 'form', 'path'), ('d', 'code', 'what', 'effective', 'heuristics'), ('clarify', 'edges', 'formed', 'elements', 'connected'), ('codea', '0', '0', '0', '0'), ('heuristics', 'could', 'applied', 'find', 'particularly'), ('like', 'codea', '0', '0', '0'), ('along', 'way', 'edit', 'just', 'clarify'), ('0000', '00c', 'd', 'code', 'could'), ('instance', 'another', 'may', 'codea', '000'), ('techniques', 'trimdiscard', 'paths', 'along', 'way'), ('trimdiscard', 'paths', 'along', 'way', 'edit'), ('problem', 'also', 'states', 'element', 'marked'), ('hamiltonian', 'paths', 'rectangular', 'grid', 'would'), ('could', 'applied', 'find', 'particularly', 'techniques'), ('just', 'clarify', 'edges', 'formed', 'elements'), ('would', 'look', 'something', 'like', 'codea'), ('programming', 'problem', 'i', 'came', 'across')}))\n"
     ]
    }
   ],
   "source": [
    "shingle_rdd = dataset.map(shingle_map)\n",
    "#shingle_rdd.persist()\n",
    "print(shingle_rdd.count())\n",
    "for elem in shingle_rdd.take(2):\n",
    "    print(elem)"
=======
   "execution_count": 10,
   "id": "855eb6f2-07ef-4ef9-b1ba-f8d3d0a9209a",
   "metadata": {},
   "outputs": [],
   "source": [
    "shingle_rdd = dataset.map(shingle_map)\n",
    "# shingle_rdd.persist()\n",
    "# for elem in shingle_rdd.take(2):\n",
    "#    print(elem)"
>>>>>>> 1992c93454a47c76e8c3f536b0030d17445a2658
   ]
  },
  {
   "cell_type": "markdown",
   "id": "b363a0e8-480f-4bc0-9167-1b58be6e6c80",
   "metadata": {},
   "source": [
    "# MinHashing"
   ]
  },
  {
   "cell_type": "code",
   "execution_count": 11,
   "id": "f3799fdf-d96c-4f41-87fd-f40c6353a4ef",
   "metadata": {},
   "outputs": [],
   "source": [
    "# Transform posts to characteristic matrix\n",
    "# Make feature set matrix\n",
    "# Minhash\n",
    "# Make Minhash Matrix\n",
    "# LSH"
   ]
  },
  {
   "cell_type": "code",
   "execution_count": null,
   "id": "863a39cf-392b-4310-9950-92bb58df1890",
   "metadata": {},
   "outputs": [],
   "source": []
  },
  {
   "cell_type": "code",
   "execution_count": null,
   "id": "a5e9d40f-72ba-4f27-bb00-c602ae796035",
   "metadata": {},
   "outputs": [],
   "source": []
  },
  {
   "cell_type": "markdown",
   "id": "958d9c18-eebb-4579-a6d2-987a3d16fce6",
   "metadata": {},
   "source": [
    "# Exit Spark"
   ]
  },
  {
   "cell_type": "code",
   "execution_count": null,
   "id": "5903af5b-7751-4eef-a000-1286bdb1eeb9",
   "metadata": {},
   "outputs": [],
   "source": [
    "spark.stop()"
   ]
  },
  {
   "cell_type": "code",
   "execution_count": null,
   "id": "fe907960-4bf9-49a6-b964-910097827ce9",
   "metadata": {},
   "outputs": [],
   "source": []
  }
 ],
 "metadata": {
  "interpreter": {
   "hash": "31f2aee4e71d21fbe5cf8b01ff0e069b9275f58929596ceb00d14d90e3e16cd6"
  },
  "kernelspec": {
   "display_name": "Python 3.9.5 64-bit",
   "name": "python3"
  },
  "language_info": {
   "codemirror_mode": {
    "name": "ipython",
    "version": 3
   },
   "file_extension": ".py",
   "mimetype": "text/x-python",
   "name": "python",
   "nbconvert_exporter": "python",
   "pygments_lexer": "ipython3",
   "version": "3.9.5"
  }
 },
 "nbformat": 4,
 "nbformat_minor": 5
}
